{
 "cells": [
  {
   "cell_type": "code",
   "execution_count": 75,
   "metadata": {
    "pycharm": {
     "name": "#%%\n"
    }
   },
   "outputs": [],
   "source": [
    "import numpy as np\n",
    "import pandas as pd"
   ]
  },
  {
   "cell_type": "code",
   "execution_count": 76,
   "metadata": {
    "pycharm": {
     "name": "#%%\n"
    }
   },
   "outputs": [
    {
     "name": "stdout",
     "output_type": "stream",
     "text": [
      "<class 'pandas.core.frame.DataFrame'>\n",
      "RangeIndex: 344 entries, 0 to 343\n",
      "Data columns (total 17 columns):\n",
      " #   Column               Non-Null Count  Dtype  \n",
      "---  ------               --------------  -----  \n",
      " 0   studyName            344 non-null    object \n",
      " 1   Sample Number        344 non-null    int64  \n",
      " 2   Species              344 non-null    object \n",
      " 3   Region               344 non-null    object \n",
      " 4   Island               344 non-null    object \n",
      " 5   Stage                344 non-null    object \n",
      " 6   Individual ID        344 non-null    object \n",
      " 7   Clutch Completion    344 non-null    object \n",
      " 8   Date Egg             344 non-null    object \n",
      " 9   Culmen Length (mm)   342 non-null    float64\n",
      " 10  Culmen Depth (mm)    342 non-null    float64\n",
      " 11  Flipper Length (mm)  342 non-null    float64\n",
      " 12  Body Mass (g)        342 non-null    float64\n",
      " 13  Sex                  334 non-null    object \n",
      " 14  Delta 15 N (o/oo)    330 non-null    float64\n",
      " 15  Delta 13 C (o/oo)    331 non-null    float64\n",
      " 16  Comments             26 non-null     object \n",
      "dtypes: float64(6), int64(1), object(10)\n",
      "memory usage: 45.8+ KB\n"
     ]
    }
   ],
   "source": [
    "df = pd.read_csv('./data/penguins_lter.csv')\n",
    "df.info()"
   ]
  },
  {
   "cell_type": "markdown",
   "source": [
    "Dátová sada obsahuje 344 riadkov a 17 stĺpcov.\n",
    "## Doplnenie chýbajúcich hodnôt\n",
    "Zistime počet chýbajúcich hodnôt."
   ],
   "metadata": {
    "collapsed": false,
    "pycharm": {
     "name": "#%% md\n"
    }
   }
  },
  {
   "cell_type": "code",
   "execution_count": 77,
   "outputs": [
    {
     "data": {
      "text/plain": "studyName                0\nSample Number            0\nSpecies                  0\nRegion                   0\nIsland                   0\nStage                    0\nIndividual ID            0\nClutch Completion        0\nDate Egg                 0\nCulmen Length (mm)       2\nCulmen Depth (mm)        2\nFlipper Length (mm)      2\nBody Mass (g)            2\nSex                     10\nDelta 15 N (o/oo)       14\nDelta 13 C (o/oo)       13\nComments               318\ndtype: int64"
     },
     "execution_count": 77,
     "metadata": {},
     "output_type": "execute_result"
    }
   ],
   "source": [
    "# pocet\n",
    "df.isna().sum()\n",
    "\n",
    "# percentaz chybajucich hodnot\n",
    "# df.isnull().sum() * 100 / df.shape[0]"
   ],
   "metadata": {
    "collapsed": false,
    "pycharm": {
     "name": "#%%\n"
    }
   }
  },
  {
   "cell_type": "markdown",
   "source": [
    "Z vypísania dátovej sady sme zistili, že dve vzorky tučniakov (3, 339) neobsahujú väčšinu parametrov. Jedna z ponzámok napovedá, že dospelý jedinec nebol  odmeraný, tak tieto chybné vzorky odstránime. Doplňme ostatné chýbajúce číselné hodnoty vzoriek z krvi (Delta 15, Delta 13) ich strednou hodnotou. Percentuálne tieto chýbajúce hodnoty zaberajú ~3.5 % miesta v dátovej sade. Ďalej už len ostáva doplniť chýbajúce pohlavia tučniakov (~2 %) najčastejšou vyskytovanou hodnotou v sade. Taktiež vzorka tučniaka na riadku s indexom 336 obsahuje chybnú hodnotu (`.`) pohlavia. Nahradíme ju modusom tiež."
   ],
   "metadata": {
    "collapsed": false,
    "pycharm": {
     "name": "#%% md\n"
    }
   }
  },
  {
   "cell_type": "code",
   "execution_count": 78,
   "outputs": [
    {
     "data": {
      "text/plain": "studyName                0\nSample Number            0\nSpecies                  0\nRegion                   0\nIsland                   0\nStage                    0\nIndividual ID            0\nClutch Completion        0\nDate Egg                 0\nCulmen Length (mm)       0\nCulmen Depth (mm)        0\nFlipper Length (mm)      0\nBody Mass (g)            0\nSex                      0\nDelta 15 N (o/oo)        0\nDelta 13 C (o/oo)        0\nComments               317\ndtype: int64"
     },
     "execution_count": 78,
     "metadata": {},
     "output_type": "execute_result"
    }
   ],
   "source": [
    "# odstranenie chybajucich vzoriek\n",
    "bad_samples = [3, 339]\n",
    "for x in bad_samples: df.drop(x, axis=0, inplace=True, errors = 'ignore')\n",
    "\n",
    "# doplnenie vzoriek z krvi ich strednou hodnotou\n",
    "missing_values = ['Delta 15 N (o/oo)', 'Delta 13 C (o/oo)']\n",
    "for x in missing_values : df[x].fillna(value = df[x].mean(), inplace=True)\n",
    "\n",
    "# doplnenie pohlavia modusom\n",
    "df['Sex'].fillna(df['Sex'].mode().values[0], inplace=True)\n",
    "df.loc[336,'Sex'] = 'MALE'\n",
    "df.isna().sum()"
   ],
   "metadata": {
    "collapsed": false,
    "pycharm": {
     "name": "#%%\n"
    }
   }
  },
  {
   "cell_type": "markdown",
   "source": [],
   "metadata": {
    "collapsed": false,
    "pycharm": {
     "name": "#%% md\n"
    }
   }
  },
  {
   "cell_type": "markdown",
   "source": [
    "## Odstránenie nepotrebných hodnôt\n",
    "Z dátovej sady môžeme zmazať identifikačné hodnoty, ktorých kombinácia len identifikuje konkrétneho tučniaka - Individual ID, Sample Number.\n",
    "Komentáre k odberu vzoriek sú taktiež nepotrebné na ďalšiu analýzu."
   ],
   "metadata": {
    "collapsed": false,
    "pycharm": {
     "name": "#%% md\n"
    }
   }
  },
  {
   "cell_type": "code",
   "execution_count": 79,
   "outputs": [],
   "source": [
    "df.drop(['Individual ID', \"Sample Number\", \"Comments\"], axis = 1, inplace=True, errors = 'ignore')"
   ],
   "metadata": {
    "collapsed": false,
    "pycharm": {
     "name": "#%%\n"
    }
   }
  }
 ],
 "metadata": {
  "kernelspec": {
   "name": "python3",
   "language": "python",
   "display_name": "Python 3 (ipykernel)"
  },
  "language_info": {
   "codemirror_mode": {
    "name": "ipython",
    "version": 3
   },
   "file_extension": ".py",
   "mimetype": "text/x-python",
   "name": "python",
   "nbconvert_exporter": "python",
   "pygments_lexer": "ipython3",
   "version": "3.10.6"
  },
  "orig_nbformat": 4,
  "vscode": {
   "interpreter": {
    "hash": "916dbcbb3f70747c44a77c7bcd40155683ae19c65e1c03b4aa3499c5328201f1"
   }
  }
 },
 "nbformat": 4,
 "nbformat_minor": 2
}